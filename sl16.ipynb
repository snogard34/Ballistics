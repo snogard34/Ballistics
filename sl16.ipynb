{
 "cells": [
  {
   "cell_type": "code",
   "execution_count": 1,
   "id": "3d675ead-5c59-406f-b748-3f6176a0e222",
   "metadata": {},
   "outputs": [],
   "source": [
    "import numpy as np\n",
    "import pandas as pd\n",
    "import seaborn as sns\n",
    "import matplotlib.pyplot as plt\n",
    "from datetime import datetime"
   ]
  },
  {
   "cell_type": "code",
   "execution_count": 2,
   "id": "2a58b6f5-39a3-413e-be5c-12dfa58bc25a",
   "metadata": {},
   "outputs": [],
   "source": [
    "df = pd.read_csv(\"../Data/all_objects.csv\")"
   ]
  },
  {
   "cell_type": "code",
   "execution_count": 3,
   "id": "11cb73f2-6110-434b-8344-529da5536b60",
   "metadata": {},
   "outputs": [],
   "source": [
    "sl = df[df['OBJECT_ID'] == '1988-102B']"
   ]
  },
  {
   "cell_type": "code",
   "execution_count": 7,
   "id": "b65063ee-3ee6-4c16-8050-933940926e15",
   "metadata": {},
   "outputs": [
    {
     "name": "stderr",
     "output_type": "stream",
     "text": [
      "C:\\Users\\snoga\\AppData\\Local\\Temp\\ipykernel_1296\\2308469628.py:20: SettingWithCopyWarning: \n",
      "A value is trying to be set on a copy of a slice from a DataFrame.\n",
      "Try using .loc[row_indexer,col_indexer] = value instead\n",
      "\n",
      "See the caveats in the documentation: https://pandas.pydata.org/pandas-docs/stable/user_guide/indexing.html#returning-a-view-versus-a-copy\n",
      "  sl['altitude_km'] = sl.apply(lambda row: calculate_altitude(row['TLE_LINE1'], row['TLE_LINE2']), axis=1)\n"
     ]
    },
    {
     "data": {
      "text/html": [
       "<div>\n",
       "<style scoped>\n",
       "    .dataframe tbody tr th:only-of-type {\n",
       "        vertical-align: middle;\n",
       "    }\n",
       "\n",
       "    .dataframe tbody tr th {\n",
       "        vertical-align: top;\n",
       "    }\n",
       "\n",
       "    .dataframe thead th {\n",
       "        text-align: right;\n",
       "    }\n",
       "</style>\n",
       "<table border=\"1\" class=\"dataframe\">\n",
       "  <thead>\n",
       "    <tr style=\"text-align: right;\">\n",
       "      <th></th>\n",
       "      <th>CCSDS_OMM_VERS</th>\n",
       "      <th>COMMENT</th>\n",
       "      <th>CREATION_DATE</th>\n",
       "      <th>ORIGINATOR</th>\n",
       "      <th>OBJECT_NAME</th>\n",
       "      <th>OBJECT_ID</th>\n",
       "      <th>CENTER_NAME</th>\n",
       "      <th>REF_FRAME</th>\n",
       "      <th>TIME_SYSTEM</th>\n",
       "      <th>MEAN_ELEMENT_THEORY</th>\n",
       "      <th>...</th>\n",
       "      <th>COUNTRY_CODE</th>\n",
       "      <th>LAUNCH_DATE</th>\n",
       "      <th>SITE</th>\n",
       "      <th>DECAY_DATE</th>\n",
       "      <th>FILE</th>\n",
       "      <th>GP_ID</th>\n",
       "      <th>TLE_LINE0</th>\n",
       "      <th>TLE_LINE1</th>\n",
       "      <th>TLE_LINE2</th>\n",
       "      <th>altitude_km</th>\n",
       "    </tr>\n",
       "  </thead>\n",
       "  <tbody>\n",
       "    <tr>\n",
       "      <th>18073</th>\n",
       "      <td>3.0</td>\n",
       "      <td>GENERATED VIA SPACE-TRACK.ORG API</td>\n",
       "      <td>2025-03-12T02:20:35</td>\n",
       "      <td>18 SPCS</td>\n",
       "      <td>SL-16 R/B</td>\n",
       "      <td>1988-102B</td>\n",
       "      <td>EARTH</td>\n",
       "      <td>TEME</td>\n",
       "      <td>UTC</td>\n",
       "      <td>SGP4</td>\n",
       "      <td>...</td>\n",
       "      <td>CIS</td>\n",
       "      <td>1988-11-23</td>\n",
       "      <td>TTMTR</td>\n",
       "      <td>NaN</td>\n",
       "      <td>4666552</td>\n",
       "      <td>282863660</td>\n",
       "      <td>0 SL-16 R/B</td>\n",
       "      <td>1 19650U 88102B   25070.76213488 -.00000163  0...</td>\n",
       "      <td>2 19650  70.9997 195.0871 0015391 211.3506 148...</td>\n",
       "      <td>831.603442</td>\n",
       "    </tr>\n",
       "  </tbody>\n",
       "</table>\n",
       "<p>1 rows × 41 columns</p>\n",
       "</div>"
      ],
      "text/plain": [
       "       CCSDS_OMM_VERS                            COMMENT        CREATION_DATE  \\\n",
       "18073             3.0  GENERATED VIA SPACE-TRACK.ORG API  2025-03-12T02:20:35   \n",
       "\n",
       "      ORIGINATOR OBJECT_NAME  OBJECT_ID CENTER_NAME REF_FRAME TIME_SYSTEM  \\\n",
       "18073    18 SPCS   SL-16 R/B  1988-102B       EARTH      TEME         UTC   \n",
       "\n",
       "      MEAN_ELEMENT_THEORY  ... COUNTRY_CODE  LAUNCH_DATE   SITE  DECAY_DATE  \\\n",
       "18073                SGP4  ...          CIS   1988-11-23  TTMTR         NaN   \n",
       "\n",
       "          FILE      GP_ID    TLE_LINE0  \\\n",
       "18073  4666552  282863660  0 SL-16 R/B   \n",
       "\n",
       "                                               TLE_LINE1  \\\n",
       "18073  1 19650U 88102B   25070.76213488 -.00000163  0...   \n",
       "\n",
       "                                               TLE_LINE2  altitude_km  \n",
       "18073  2 19650  70.9997 195.0871 0015391 211.3506 148...   831.603442  \n",
       "\n",
       "[1 rows x 41 columns]"
      ]
     },
     "execution_count": 7,
     "metadata": {},
     "output_type": "execute_result"
    }
   ],
   "source": [
    "from skyfield.api import EarthSatellite, load, wgs84\n",
    "from datetime import datetime\n",
    "\n",
    "#Добавляем колонку с высотами объектов\n",
    "\n",
    "ts = load.timescale()\n",
    "planets = load('de421.bsp')\n",
    "earth = planets['earth']\n",
    "\n",
    "def calculate_altitude(tle_line1, tle_line2):\n",
    "    satellite = EarthSatellite(tle_line1, tle_line2, 'Satellite', ts)\n",
    "    t = ts.now()\n",
    "    geocentric = satellite.at(t)\n",
    "    subpoint = wgs84.subpoint(geocentric)\n",
    "    return subpoint.elevation.km\n",
    "\n",
    "sl['altitude_km'] = sl.apply(lambda row: calculate_altitude(row['TLE_LINE1'], row['TLE_LINE2']), axis=1)\n",
    "\n",
    "sl"
   ]
  },
  {
   "cell_type": "code",
   "execution_count": 9,
   "id": "93bdbd5a-7c2a-4e75-9224-e6d1912fb78b",
   "metadata": {},
   "outputs": [
    {
     "data": {
      "text/plain": [
       "Index(['CCSDS_OMM_VERS', 'COMMENT', 'CREATION_DATE', 'ORIGINATOR',\n",
       "       'OBJECT_NAME', 'OBJECT_ID', 'CENTER_NAME', 'REF_FRAME', 'TIME_SYSTEM',\n",
       "       'MEAN_ELEMENT_THEORY', 'EPOCH', 'MEAN_MOTION', 'ECCENTRICITY',\n",
       "       'INCLINATION', 'RA_OF_ASC_NODE', 'ARG_OF_PERICENTER', 'MEAN_ANOMALY',\n",
       "       'EPHEMERIS_TYPE', 'CLASSIFICATION_TYPE', 'NORAD_CAT_ID',\n",
       "       'ELEMENT_SET_NO', 'REV_AT_EPOCH', 'BSTAR', 'MEAN_MOTION_DOT',\n",
       "       'MEAN_MOTION_DDOT', 'SEMIMAJOR_AXIS', 'PERIOD', 'APOAPSIS', 'PERIAPSIS',\n",
       "       'OBJECT_TYPE', 'RCS_SIZE', 'COUNTRY_CODE', 'LAUNCH_DATE', 'SITE',\n",
       "       'DECAY_DATE', 'FILE', 'GP_ID', 'TLE_LINE0', 'TLE_LINE1', 'TLE_LINE2',\n",
       "       'altitude_km'],\n",
       "      dtype='object')"
      ]
     },
     "execution_count": 9,
     "metadata": {},
     "output_type": "execute_result"
    }
   ],
   "source": [
    "sl.columns"
   ]
  },
  {
   "cell_type": "code",
   "execution_count": 11,
   "id": "1237f183-92da-40b7-b259-2b3115af5be7",
   "metadata": {},
   "outputs": [
    {
     "data": {
      "text/plain": [
       "18073    0.001539\n",
       "Name: ECCENTRICITY, dtype: float64"
      ]
     },
     "execution_count": 11,
     "metadata": {},
     "output_type": "execute_result"
    }
   ],
   "source": [
    "sl['ECCENTRICITY']"
   ]
  },
  {
   "cell_type": "code",
   "execution_count": 13,
   "id": "3b63d0f6-45ec-4ada-bc50-42ec1d4f7e4b",
   "metadata": {},
   "outputs": [
    {
     "data": {
      "text/plain": [
       "18073    70.9997\n",
       "Name: INCLINATION, dtype: float64"
      ]
     },
     "execution_count": 13,
     "metadata": {},
     "output_type": "execute_result"
    }
   ],
   "source": [
    "sl['INCLINATION']"
   ]
  },
  {
   "cell_type": "code",
   "execution_count": 15,
   "id": "d6affd70-526f-4052-8ba9-d569fcbfb838",
   "metadata": {},
   "outputs": [
    {
     "data": {
      "text/plain": [
       "18073    195.0871\n",
       "Name: RA_OF_ASC_NODE, dtype: float64"
      ]
     },
     "execution_count": 15,
     "metadata": {},
     "output_type": "execute_result"
    }
   ],
   "source": [
    "#Долгота восходящего узла\n",
    "sl['RA_OF_ASC_NODE']"
   ]
  },
  {
   "cell_type": "code",
   "execution_count": 17,
   "id": "6ff2515f-daf7-4051-8e1a-9315d5c4bb93",
   "metadata": {},
   "outputs": [
    {
     "data": {
      "text/plain": [
       "18073    211.3506\n",
       "Name: ARG_OF_PERICENTER, dtype: float64"
      ]
     },
     "execution_count": 17,
     "metadata": {},
     "output_type": "execute_result"
    }
   ],
   "source": [
    "sl['ARG_OF_PERICENTER']"
   ]
  },
  {
   "cell_type": "code",
   "execution_count": 19,
   "id": "1595ba68-d2b2-4d97-a5bb-e9b7689a0a70",
   "metadata": {},
   "outputs": [
    {
     "data": {
      "text/plain": [
       "18073    148.6701\n",
       "Name: MEAN_ANOMALY, dtype: float64"
      ]
     },
     "execution_count": 19,
     "metadata": {},
     "output_type": "execute_result"
    }
   ],
   "source": [
    "sl['MEAN_ANOMALY']\n"
   ]
  },
  {
   "cell_type": "code",
   "execution_count": 21,
   "id": "6ea9d06f-732a-4c8c-a803-b06000270553",
   "metadata": {},
   "outputs": [
    {
     "data": {
      "text/plain": [
       "18073   -0.000058\n",
       "Name: BSTAR, dtype: float64"
      ]
     },
     "execution_count": 21,
     "metadata": {},
     "output_type": "execute_result"
    }
   ],
   "source": [
    "sl['BSTAR']"
   ]
  },
  {
   "cell_type": "code",
   "execution_count": 23,
   "id": "11bad834-920b-46dc-8375-d9000fba57ae",
   "metadata": {},
   "outputs": [
    {
     "data": {
      "text/plain": [
       "18073    7216.777\n",
       "Name: SEMIMAJOR_AXIS, dtype: float64"
      ]
     },
     "execution_count": 23,
     "metadata": {},
     "output_type": "execute_result"
    }
   ],
   "source": [
    "sl['SEMIMAJOR_AXIS']"
   ]
  },
  {
   "cell_type": "code",
   "execution_count": 25,
   "id": "08594227-0de6-40a0-8050-70dda1a18ff3",
   "metadata": {},
   "outputs": [
    {
     "data": {
      "text/plain": [
       "18073    849.75\n",
       "Name: APOAPSIS, dtype: float64"
      ]
     },
     "execution_count": 25,
     "metadata": {},
     "output_type": "execute_result"
    }
   ],
   "source": [
    "sl['APOAPSIS']"
   ]
  },
  {
   "cell_type": "code",
   "execution_count": 27,
   "id": "864a8240-a563-49a0-869b-600306210275",
   "metadata": {},
   "outputs": [
    {
     "data": {
      "text/plain": [
       "18073    827.535\n",
       "Name: PERIAPSIS, dtype: float64"
      ]
     },
     "execution_count": 27,
     "metadata": {},
     "output_type": "execute_result"
    }
   ],
   "source": [
    "sl['PERIAPSIS']"
   ]
  },
  {
   "cell_type": "code",
   "execution_count": null,
   "id": "6412a577-a5bf-4add-8994-e6c917c81bda",
   "metadata": {},
   "outputs": [],
   "source": []
  },
  {
   "cell_type": "code",
   "execution_count": null,
   "id": "e11f669c-77c5-4180-ac5a-bf9ba17e4d66",
   "metadata": {},
   "outputs": [],
   "source": []
  },
  {
   "cell_type": "code",
   "execution_count": 19,
   "id": "a14c4b38-ec80-4a7a-9479-fafe0b6d9afd",
   "metadata": {},
   "outputs": [
    {
     "data": {
      "text/plain": [
       "'1 19650U 88102B   25070.76213488 -.00000163  00000-0 -58357-4 0  9997'"
      ]
     },
     "execution_count": 19,
     "metadata": {},
     "output_type": "execute_result"
    }
   ],
   "source": [
    "sl['TLE_LINE1'].values[0]"
   ]
  },
  {
   "cell_type": "code",
   "execution_count": null,
   "id": "939320a8-8be4-4aad-beec-33bf1483c5c4",
   "metadata": {},
   "outputs": [],
   "source": []
  },
  {
   "cell_type": "code",
   "execution_count": 12,
   "id": "719be8ee-ff7e-40f0-964c-6dcd4be6c169",
   "metadata": {},
   "outputs": [
    {
     "name": "stdout",
     "output_type": "stream",
     "text": [
      "Время спуска: 535300.0 дней\n",
      "Затраты характеристической скорости (ΔV): 0.6423691440429403 м/с\n",
      "Масса топлива: 0.028469618401808266 кг\n"
     ]
    }
   ],
   "source": [
    "from skyfield.api import load, EarthSatellite\n",
    "import numpy as np\n",
    "from datetime import timedelta\n",
    "\n",
    "tle = [\n",
    "    \"1 25544U 98067A   20232.51736111  .00000123  00000-0  12345-4 0  9999\",\n",
    "    \"2 25544  51.6448 208.9163 0004018 315.5941 218.7776 15.49165421234567\"\n",
    "]\n",
    "satellite = EarthSatellite(sl['TLE_LINE1'].values[0], sl['TLE_LINE2'].values[0], 'SL-16 R/B', load.timescale())\n",
    "\n",
    "# Параметры двигателя\n",
    "thrust = 1.2e-3  \n",
    "isp = 2300\n",
    "g0 = 9.81 \n",
    "\n",
    "# Масса аппарата (предположим, что начальная масса 1000 кг)\n",
    "initial_mass = 1000.0  # кг\n",
    "\n",
    "# Целевая высота\n",
    "target_altitude = 100000  # 100 км в метрах\n",
    "\n",
    "# Загрузка данных о Земле\n",
    "ts = load.timescale()\n",
    "eph = load('de421.bsp')\n",
    "earth = eph['earth']\n",
    "\n",
    "# Функция для расчета высоты над поверхностью Земли\n",
    "def calculate_altitude(satellite, t):\n",
    "    geocentric = satellite.at(t)\n",
    "    subpoint = geocentric.subpoint()\n",
    "    return subpoint.elevation.m  # Высота в метрах\n",
    "\n",
    "# Начальное время\n",
    "start_time = ts.now()\n",
    "\n",
    "# Шаг времени для симуляции (например, 1 минута)\n",
    "time_step = timedelta(seconds=60*60*24*100)  # 60 секунд\n",
    "\n",
    "# Симуляция до достижения целевой высоты\n",
    "current_time = start_time\n",
    "altitude = calculate_altitude(satellite, current_time)\n",
    "while altitude > target_altitude:\n",
    "    # Увеличиваем время на шаг\n",
    "    current_time = ts.utc(current_time.utc_datetime() + time_step)\n",
    "    altitude = calculate_altitude(satellite, current_time)\n",
    "    if altitude <= target_altitude:\n",
    "        break\n",
    "\n",
    "# Время спуска\n",
    "descent_time = (current_time - start_time)  # Время в днях\n",
    "\n",
    "# Расчет характеристической скорости (ΔV)\n",
    "delta_v = isp * g0 * np.log(initial_mass / (initial_mass - (thrust * descent_time / (isp * g0))))\n",
    "\n",
    "# Масса топлива\n",
    "fuel_mass = thrust * descent_time / (isp * g0)\n",
    "\n",
    "# Вывод результатов\n",
    "print(f\"Время спуска: {descent_time} дней\")\n",
    "print(f\"Затраты характеристической скорости (ΔV): {delta_v} м/с\")\n",
    "print(f\"Масса топлива: {fuel_mass} кг\")"
   ]
  },
  {
   "cell_type": "code",
   "execution_count": 23,
   "id": "8cb2afb2-4cba-4866-8137-f1fd73f1ecb0",
   "metadata": {},
   "outputs": [
    {
     "name": "stdout",
     "output_type": "stream",
     "text": [
      "Время спуска: 46241280000.0 секунд (535200.0 дней)\n",
      "Затраты характеристической скорости (ΔV): 7297.023090259428 м/с\n",
      "Масса топлива: 2459.3155165517237 кг\n"
     ]
    }
   ],
   "source": [
    "from skyfield.api import load, EarthSatellite\n",
    "import numpy as np\n",
    "from datetime import timedelta\n",
    "\n",
    "# Загрузка данных TLE\n",
    "tle = [\n",
    "    \"1 25544U 98067A   20232.51736111  .00000123  00000-0  12345-4 0  9999\",\n",
    "    \"2 25544  51.6448 208.9163 0004018 315.5941 218.7776 15.49165421234567\"\n",
    "]\n",
    "satellite = EarthSatellite(sl['TLE_LINE1'].values[0], sl['TLE_LINE2'].values[0], 'SL-16 R/B', load.timescale())\n",
    "\n",
    "# Параметры двигателя\n",
    "thrust = 1.2e-3  # Тяга в Ньютонах\n",
    "isp = 2300  # Удельный импульс в секундах\n",
    "g0 = 9.81  # Стандартное ускорение свободного падения\n",
    "\n",
    "# Масса аппарата (предположим, что начальная масса 1000 кг)\n",
    "initial_mass = 8900.0  # кг\n",
    "\n",
    "# Целевая высота\n",
    "target_altitude = 100000  # 100 км в метрах\n",
    "\n",
    "# Загрузка данных о Земле\n",
    "ts = load.timescale()\n",
    "eph = load('de421.bsp')\n",
    "earth = eph['earth']\n",
    "\n",
    "# Функция для расчета высоты над поверхностью Земли\n",
    "def calculate_altitude(satellite, t):\n",
    "    geocentric = satellite.at(t)\n",
    "    subpoint = geocentric.subpoint()\n",
    "    return subpoint.elevation.m  # Высота в метрах\n",
    "\n",
    "# Начальное время\n",
    "start_time = ts.now()\n",
    "\n",
    "# Шаг времени для симуляции (например, 1 минута)\n",
    "time_step = timedelta(seconds=60*60*24*100)  # 60 секунд\n",
    "\n",
    "# Начальные условия\n",
    "current_time = start_time\n",
    "altitude = calculate_altitude(satellite, current_time)\n",
    "mass = initial_mass\n",
    "delta_v = 0.0  # Накопленная характеристическая скорость\n",
    "\n",
    "# Симуляция до достижения целевой высоты\n",
    "while altitude > target_altitude:\n",
    "    # Расчет ускорения от двигателя\n",
    "    acceleration = thrust / mass  # Ускорение в м/с²\n",
    "\n",
    "    # Обновление скорости (ΔV = a * Δt)\n",
    "    delta_v += acceleration * time_step.total_seconds()\n",
    "\n",
    "    # Обновление массы (расход топлива)\n",
    "    mass_flow_rate = thrust / (isp * g0)  # Расход топлива в кг/с\n",
    "    mass -= mass_flow_rate * time_step.total_seconds()\n",
    "\n",
    "    # Обновление времени\n",
    "    current_time = ts.utc(current_time.utc_datetime() + time_step)\n",
    "\n",
    "    # Расчет новой высоты\n",
    "    altitude = calculate_altitude(satellite, current_time)\n",
    "\n",
    "    # Проверка достижения целевой высоты\n",
    "    if altitude <= target_altitude:\n",
    "        break\n",
    "\n",
    "# Время спуска (в секундах)\n",
    "descent_time = (current_time - start_time) * 86400  # Преобразуем дни в секунды\n",
    "\n",
    "# Масса топлива\n",
    "fuel_mass = initial_mass - mass\n",
    "\n",
    "# Вывод результатов\n",
    "print(f\"Время спуска: {descent_time} секунд ({descent_time / 86400} дней)\")\n",
    "print(f\"Затраты характеристической скорости (ΔV): {delta_v} м/с\")\n",
    "print(f\"Масса топлива: {fuel_mass} кг\")"
   ]
  },
  {
   "cell_type": "code",
   "execution_count": 16,
   "id": "4830e332-7f0f-4030-a291-ca5c3a5c7c6a",
   "metadata": {},
   "outputs": [
    {
     "data": {
      "text/plain": [
       "<Time tt=2460747.022338154>"
      ]
     },
     "execution_count": 16,
     "metadata": {},
     "output_type": "execute_result"
    }
   ],
   "source": []
  },
  {
   "cell_type": "code",
   "execution_count": 13,
   "id": "96c2ac17-31e2-45c5-a577-532348d7a071",
   "metadata": {},
   "outputs": [
    {
     "name": "stdout",
     "output_type": "stream",
     "text": [
      "Ошибка: Время вышло за пределы допустимого диапазона.\n",
      "Время спуска: 2392243200.0 секунд (27688.0 дней)\n",
      "Затраты характеристической скорости (ΔV): 8637.864093770402 м/с\n",
      "Масса топлива: 127.23005983268422 кг\n"
     ]
    }
   ],
   "source": [
    "from skyfield.api import load, EarthSatellite, wgs84\n",
    "import numpy as np\n",
    "from datetime import timedelta, datetime\n",
    "\n",
    "# Начальные данные для Orion 50 XL\n",
    "initial_position = [3038.4, 412.0, -7069.3]  # Положение в км\n",
    "initial_velocity = [-3.71, -5.84, 0.98]  # Скорость в км/с\n",
    "\n",
    "# Преобразуем в метры и метры/секунду\n",
    "initial_position = np.array(initial_position) * 1000  # Переводим в метры\n",
    "initial_velocity = np.array(initial_velocity) * 1000  # Переводим в м/с\n",
    "\n",
    "# Параметры двигателя\n",
    "thrust = 1.2e-3  # Тяга в Ньютонах\n",
    "isp = 2300  # Удельный импульс в секундах\n",
    "g0 = 9.81  # Стандартное ускорение свободного падения\n",
    "\n",
    "# Масса аппарата (предположим, что начальная масса 1000 кг)\n",
    "initial_mass = 400.0  # кг\n",
    "\n",
    "# Целевая высота\n",
    "target_altitude = 100000  # 100 км в метрах\n",
    "\n",
    "# Загрузка данных о Земле\n",
    "ts = load.timescale()\n",
    "eph = load('de421.bsp')\n",
    "earth = eph['earth']\n",
    "\n",
    "# Создание объекта EarthSatellite\n",
    "satellite = EarthSatellite(\n",
    "    \"1 00000U 00000A   00000.00000000  .00000000  00000-0  00000-0 0  9999\",\n",
    "    \"2 00000  51.6448 208.9163 0004018 315.5941 218.7776 15.49165421234567\",\n",
    "    'Orion 50 XL', ts\n",
    ")\n",
    "\n",
    "# Начальное время (текущее время)\n",
    "start_time = ts.now()\n",
    "\n",
    "# Шаг времени для симуляции (например, 1 минута)\n",
    "time_step = timedelta(seconds=60*24*60)  # 60 секунд\n",
    "\n",
    "# Начальные условия\n",
    "current_time = start_time\n",
    "mass = initial_mass\n",
    "delta_v = 0.0  # Накопленная характеристическая скорость\n",
    "\n",
    "# Симуляция до достижения целевой высоты\n",
    "while True:\n",
    "    # Расчет ускорения от двигателя\n",
    "    acceleration = thrust / mass  # Ускорение в м/с²\n",
    "\n",
    "    # Обновление скорости (ΔV = a * Δt)\n",
    "    delta_v += acceleration * time_step.total_seconds()\n",
    "\n",
    "    # Обновление массы (расход топлива)\n",
    "    mass_flow_rate = thrust / (isp * g0)  # Расход топлива в кг/с\n",
    "    mass -= mass_flow_rate * time_step.total_seconds()\n",
    "\n",
    "    # Обновление времени\n",
    "    current_time = ts.utc(current_time.utc_datetime() + time_step)\n",
    "\n",
    "    # Расчет новой высоты\n",
    "    geocentric = satellite.at(current_time)\n",
    "    subpoint = geocentric.subpoint()\n",
    "    altitude = subpoint.elevation.m  # Высота в метрах\n",
    "\n",
    "    # Проверка достижения целевой высоты\n",
    "    if altitude <= target_altitude:\n",
    "        break\n",
    "\n",
    "    # Проверка на выход за пределы допустимого диапазона времени\n",
    "    if current_time.utc_datetime().year > 2100 or current_time.utc_datetime().year < 1900:\n",
    "        print(\"Ошибка: Время вышло за пределы допустимого диапазона.\")\n",
    "        break\n",
    "\n",
    "# Время спуска (в секундах)\n",
    "descent_time = (current_time - start_time) * 86400  # Преобразуем дни в секунды\n",
    "\n",
    "# Масса топлива\n",
    "fuel_mass = initial_mass - mass\n",
    "\n",
    "# Вывод результатов\n",
    "print(f\"Время спуска: {descent_time} секунд ({descent_time / 86400} дней)\")\n",
    "print(f\"Затраты характеристической скорости (ΔV): {delta_v} м/с\")\n",
    "print(f\"Масса топлива: {fuel_mass} кг\")"
   ]
  },
  {
   "cell_type": "code",
   "execution_count": null,
   "id": "8ffb1e9a-1355-4e67-b3fb-cd3ddb0b61cc",
   "metadata": {},
   "outputs": [],
   "source": []
  },
  {
   "cell_type": "code",
   "execution_count": null,
   "id": "ee17ea04-0cef-4019-89ef-325d6b6c8e81",
   "metadata": {},
   "outputs": [],
   "source": []
  },
  {
   "cell_type": "code",
   "execution_count": null,
   "id": "2518f6d5-9aef-4ddc-8148-439eb0a20951",
   "metadata": {},
   "outputs": [],
   "source": []
  },
  {
   "cell_type": "code",
   "execution_count": null,
   "id": "529155f3-2bee-4b1b-9930-06603e39c19b",
   "metadata": {},
   "outputs": [],
   "source": [
    "satellite = EarthSatellite(sl['TLE_LINE1'].values[0], sl['TLE_LINE2'].values[0], 'SL-16 R/B', load.timescale())"
   ]
  }
 ],
 "metadata": {
  "kernelspec": {
   "display_name": "Python 3 (ipykernel)",
   "language": "python",
   "name": "python3"
  },
  "language_info": {
   "codemirror_mode": {
    "name": "ipython",
    "version": 3
   },
   "file_extension": ".py",
   "mimetype": "text/x-python",
   "name": "python",
   "nbconvert_exporter": "python",
   "pygments_lexer": "ipython3",
   "version": "3.12.7"
  }
 },
 "nbformat": 4,
 "nbformat_minor": 5
}
